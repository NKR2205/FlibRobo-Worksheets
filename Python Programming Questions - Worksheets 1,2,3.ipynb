{
 "cells": [
  {
   "cell_type": "markdown",
   "id": "87076411",
   "metadata": {},
   "source": [
    "# PYTHON – WORKSHEET 1 ---> Q11 to Q15 programming questions"
   ]
  },
  {
   "cell_type": "markdown",
   "id": "4bf0c9ae",
   "metadata": {},
   "source": [
    "# Q11. Write a python program to find the factorial of a number"
   ]
  },
  {
   "cell_type": "code",
   "execution_count": 27,
   "id": "612a48fc",
   "metadata": {},
   "outputs": [
    {
     "name": "stdout",
     "output_type": "stream",
     "text": [
      "Enter a = 22\n"
     ]
    },
    {
     "data": {
      "text/plain": [
       "1124000727777607680000"
      ]
     },
     "execution_count": 27,
     "metadata": {},
     "output_type": "execute_result"
    }
   ],
   "source": [
    "# Importing math library\n",
    "\n",
    "import math as mt\n",
    "    \n",
    "def factorial(a):\n",
    "    return mt.factorial(a)\n",
    "a = int(input(\"Enter a = \"))\n",
    "factorial(a)"
   ]
  },
  {
   "cell_type": "markdown",
   "id": "6f9cc83a",
   "metadata": {},
   "source": [
    "# Q12. Write a python program to find whether a number is prime or composite"
   ]
  },
  {
   "cell_type": "code",
   "execution_count": 29,
   "id": "550b67f9",
   "metadata": {},
   "outputs": [
    {
     "name": "stdout",
     "output_type": "stream",
     "text": [
      "Enter any number : 22\n",
      "22 is NOT a Prime Number\n"
     ]
    }
   ],
   "source": [
    "n = int(input(\"Enter any number : \"))\n",
    "\n",
    "if n > 1:\n",
    "    for i in range(2, n):\n",
    "        if (n % i) == 0:\n",
    "            print(n, \"is NOT a Prime Number\")\n",
    "        break\n",
    "    else:\n",
    "        print(n, \"is a Prime Number\")\n",
    "elif n == 0 or 1:\n",
    "    print(n, \"is a neither Prime NOR Composite Number\")\n",
    "else:\n",
    "    print(n, \"is NOT a Prime Number it is a COMPOSITE Number\")       "
   ]
  },
  {
   "cell_type": "code",
   "execution_count": null,
   "id": "f19ef309",
   "metadata": {},
   "outputs": [],
   "source": []
  },
  {
   "cell_type": "markdown",
   "id": "10fadb09",
   "metadata": {},
   "source": [
    "# Q13. Write a python program to check whether a given string is palindrome or not"
   ]
  },
  {
   "cell_type": "code",
   "execution_count": 30,
   "id": "88574b05",
   "metadata": {},
   "outputs": [
    {
     "name": "stdout",
     "output_type": "stream",
     "text": [
      "Enter s = Ranganathan\n",
      "No\n"
     ]
    }
   ],
   "source": [
    "def palindrome(s):\n",
    "    return s == s[::-1]\n",
    "s = str(input(\"Enter s = \"))\n",
    "if palindrome(s):\n",
    "    print(\"Yes\")\n",
    "else:\n",
    "    print(\"No\")             "
   ]
  },
  {
   "cell_type": "code",
   "execution_count": 31,
   "id": "bf6fb02d",
   "metadata": {},
   "outputs": [
    {
     "name": "stdout",
     "output_type": "stream",
     "text": [
      "Enter s = mom\n",
      "Yes\n"
     ]
    }
   ],
   "source": [
    "def palindrome(s):\n",
    "    return s == s[::-1]\n",
    "s = str(input(\"Enter s = \"))\n",
    "if palindrome(s):\n",
    "    print(\"Yes\")\n",
    "else:\n",
    "    print(\"No\")"
   ]
  },
  {
   "cell_type": "code",
   "execution_count": null,
   "id": "0f5b00dd",
   "metadata": {},
   "outputs": [],
   "source": []
  },
  {
   "cell_type": "markdown",
   "id": "b68b6dd3",
   "metadata": {},
   "source": [
    "# Q14. Write a Python program to get the third side of right-angled triangle from two given sides"
   ]
  },
  {
   "cell_type": "code",
   "execution_count": 35,
   "id": "63d7a404",
   "metadata": {},
   "outputs": [
    {
     "name": "stdout",
     "output_type": "stream",
     "text": [
      "Enter p = 5\n",
      "Enter b = 7\n"
     ]
    },
    {
     "data": {
      "text/plain": [
       "8.602325267042627"
      ]
     },
     "execution_count": 35,
     "metadata": {},
     "output_type": "execute_result"
    }
   ],
   "source": [
    "from math import sqrt\n",
    "\n",
    "def triangle(h):\n",
    "    return sqrt(p ** 2 + b ** 2)\n",
    "p = int(input(\"Enter p = \"))                \n",
    "b = int(input(\"Enter b = \"))           \n",
    "h = sqrt(a ** 2 + b ** 2)           \n",
    "triangle(h)           "
   ]
  },
  {
   "cell_type": "code",
   "execution_count": null,
   "id": "f6af4cb4",
   "metadata": {},
   "outputs": [],
   "source": []
  },
  {
   "cell_type": "markdown",
   "id": "e090bda8",
   "metadata": {},
   "source": [
    "# Q15. Write a python program to print the frequency of each of the characters present in a given string \n",
    "        "
   ]
  },
  {
   "cell_type": "code",
   "execution_count": 36,
   "id": "74d3c471",
   "metadata": {},
   "outputs": [
    {
     "name": "stdout",
     "output_type": "stream",
     "text": [
      "Enter name = naveenkumarranganathan\n",
      "The count of letters present in name :  {'t': 1, 'v': 1, 'r': 2, 'u': 1, 'h': 1, 'e': 2, 'k': 1, 'm': 1, 'g': 1, 'n': 5, 'a': 6}\n"
     ]
    }
   ],
   "source": [
    "# Right-angled Triangle: A right-angled triangle is one that follows the Pythagoras Theorem\n",
    "# and one angle of such triangles is 90 degrees which is formed by the base and perpendicular. \n",
    "# The hypotenuse is the longest side in such triangles.\n",
    "\n",
    "def freq(f):\n",
    "    return {i: name.count(i) for i in set(name)}\n",
    "name = str(input(\"Enter name = \"))\n",
    "f = {i: name.count(i) for i in set(name)}\n",
    "print(\"The count of letters present in name : \",freq(f))  "
   ]
  },
  {
   "cell_type": "code",
   "execution_count": null,
   "id": "93a7ee42",
   "metadata": {},
   "outputs": [],
   "source": []
  },
  {
   "cell_type": "markdown",
   "id": "153dbb43",
   "metadata": {},
   "source": [
    "# PYTHON – WORKSHEET 2 ---> Q14 and Q15 programming questions"
   ]
  },
  {
   "cell_type": "markdown",
   "id": "476471b9",
   "metadata": {},
   "source": [
    "# Q14. Write a python program to solve a quadratic equation of the form ax^2+bx+c=0. Where a, b and c are to be taken by user input. Handle the erroneous input, such as ‘a’ should not be equal to 0\n"
   ]
  },
  {
   "cell_type": "code",
   "execution_count": 123,
   "id": "cdb95d73",
   "metadata": {},
   "outputs": [
    {
     "name": "stdout",
     "output_type": "stream",
     "text": [
      " real and different roots \n",
      "-0.21922359359558485\n",
      "-2.2807764064044154\n"
     ]
    }
   ],
   "source": [
    "# Python program to find roots of quadratic equation\n",
    "\n",
    "import math \n",
    "  \n",
    "def equationtroots(a,b,c):                  # function for finding roots\n",
    "    dis = b * b - 4 * a * c                 # calculating discriminant using formula\n",
    "    sqrtval = math.sqrt(abs(dis)) \n",
    "    \n",
    "    if dis > 0:                             # checking condition for discriminant\n",
    "        print(\" real and different roots \") \n",
    "        print((-b + sqrtval)/(2 * a)) \n",
    "        print((-b - sqrtval)/(2 * a)) \n",
    "      \n",
    "    elif dis == 0: \n",
    "        print(\" real and same roots\") \n",
    "        print(-b / (2 * a)) \n",
    "    \n",
    "    else:                                  # when discriminant is less than 0\n",
    "        print(\"Complex Roots\") \n",
    "        print(- b / (2 * a), \" + i\", sqrtval) \n",
    "        print(- b / (2 * a), \" - i\", sqrtval)\n",
    "        \n",
    "# input\n",
    "a = 2\n",
    "b = 5\n",
    "c = 1\n",
    "  \n",
    "# If a is 0, then incorrect equation\n",
    "if a == 0:                                  \n",
    "        print(\"Input correct quadratic equation\") \n",
    "else:\n",
    "    equationroots(a,b,c)"
   ]
  },
  {
   "cell_type": "code",
   "execution_count": null,
   "id": "c0e3d7e8",
   "metadata": {},
   "outputs": [],
   "source": []
  },
  {
   "cell_type": "markdown",
   "id": "afb215eb",
   "metadata": {},
   "source": [
    "# Q15.  Write a python program to find the sum of first ‘n’ natural numbers without using any loop. Ask users to input the value of ‘n’"
   ]
  },
  {
   "cell_type": "code",
   "execution_count": 126,
   "id": "763d8493",
   "metadata": {},
   "outputs": [
    {
     "name": "stdout",
     "output_type": "stream",
     "text": [
      "Enter n = 25\n"
     ]
    },
    {
     "data": {
      "text/plain": [
       "325.0"
      ]
     },
     "execution_count": 126,
     "metadata": {},
     "output_type": "execute_result"
    }
   ],
   "source": [
    "# finding sum of first n natural numbers\n",
    "\n",
    "def naturalnumbers(n):\n",
    "    return n*(n+1)/2\n",
    "n = int(input(\"Enter n = \"))\n",
    "naturalnumbers(n)"
   ]
  },
  {
   "cell_type": "code",
   "execution_count": null,
   "id": "ed8dbcae",
   "metadata": {},
   "outputs": [],
   "source": []
  },
  {
   "cell_type": "markdown",
   "id": "1aa8be2d",
   "metadata": {},
   "source": [
    "# Python Worksheet- 3 ----> Q11 to Q15 are programming questions"
   ]
  },
  {
   "cell_type": "markdown",
   "id": "ef792d9d",
   "metadata": {},
   "source": [
    "# Q11. Write a python function print pyramid of stars. Level of the pyramid should be taken as an input from the user. E.g Input = 5 "
   ]
  },
  {
   "cell_type": "code",
   "execution_count": 14,
   "id": "02884b5b",
   "metadata": {},
   "outputs": [
    {
     "name": "stdout",
     "output_type": "stream",
     "text": [
      "Enter s = 5\n",
      "    * \n",
      "   * * \n",
      "  * * * \n",
      " * * * * \n",
      "* * * * * \n"
     ]
    }
   ],
   "source": [
    "# python program to print pyramid of stars\n",
    "\n",
    "\n",
    "def pyramid(s):\n",
    "    for i in range(1, s + 1):\n",
    "        print(\" \" * (s - i) +\"* \" * i)\n",
    "        \n",
    "s= int(input(\"Enter s = \")) \n",
    "pyramid(s)"
   ]
  },
  {
   "cell_type": "code",
   "execution_count": null,
   "id": "6a87311b",
   "metadata": {},
   "outputs": [],
   "source": []
  },
  {
   "cell_type": "markdown",
   "id": "d0d56b0a",
   "metadata": {},
   "source": [
    "# Q12. Write a python function print Hourglass pattern E.g Input = 5 "
   ]
  },
  {
   "cell_type": "code",
   "execution_count": 24,
   "id": "0418ceec",
   "metadata": {},
   "outputs": [
    {
     "name": "stdout",
     "output_type": "stream",
     "text": [
      "Enter s = 5\n",
      "\n",
      "*********\n",
      " *******\n",
      "  *****\n",
      "   ***\n",
      "    *\n",
      "   ***\n",
      "  *****\n",
      " *******\n",
      "*********\n"
     ]
    }
   ],
   "source": [
    "# Program for hour glass pattern\n",
    "\n",
    "def hourglass(s):\n",
    "    character = \"*\"\n",
    "    s = 5\n",
    "    pattern = int(s)  \n",
    "\n",
    "    for i in range(pattern):\n",
    "        print(\" \"*i + character*(2*(pattern-i)-1))\n",
    "    for j in range(pattern-1, 0, -1):\n",
    "        print(\" \"*(j-1) + character*(2*(pattern-j) + 1))\n",
    "s = int(input(\"Enter s = \"))\n",
    "print(\"\\r\")\n",
    "hourglass(s)   "
   ]
  },
  {
   "cell_type": "code",
   "execution_count": null,
   "id": "408caa7c",
   "metadata": {},
   "outputs": [],
   "source": []
  },
  {
   "cell_type": "markdown",
   "id": "b5185a2f",
   "metadata": {},
   "source": [
    "# Q13. Write a python function to print Pascal’s Triangle. The number of levels in the triangle must be taken as input by the user. E.g Input = 5     "
   ]
  },
  {
   "cell_type": "code",
   "execution_count": 36,
   "id": "a1929b46",
   "metadata": {},
   "outputs": [
    {
     "name": "stdout",
     "output_type": "stream",
     "text": [
      "Enter s = 5\n",
      "\n",
      " 1\n",
      " 1 1\n",
      " 1 2 1\n",
      " 1 3 3 1\n",
      " 1 4 6 4 1\n"
     ]
    }
   ],
   "source": [
    "# Pascal's Triangle in Python\n",
    " \n",
    "def pascal(s):\n",
    "    for i in range(s):\n",
    "        print(''*(s-i), end=' ')\n",
    "        print(' '.join(map(str, str(11**i)))) # Computing power of 11   \n",
    "s = int(input(\"Enter s = \"))\n",
    "print(\"\\r\")\n",
    "pascal(s)"
   ]
  },
  {
   "cell_type": "code",
   "execution_count": null,
   "id": "f6675f80",
   "metadata": {},
   "outputs": [],
   "source": []
  },
  {
   "cell_type": "markdown",
   "id": "c67bf49e",
   "metadata": {},
   "source": [
    "# Q14. Write a python function to print Diamond Shaped Pattern shown below. Function must take integer input which represents the number of stars in the middle most line. E.g.: input = 5\n",
    "       "
   ]
  },
  {
   "cell_type": "code",
   "execution_count": 97,
   "id": "c272ef51",
   "metadata": {},
   "outputs": [
    {
     "name": "stdout",
     "output_type": "stream",
     "text": [
      "Enter s = 5\n",
      "\n",
      "    * \n",
      "   * * \n",
      "  * * * \n",
      " * * * * \n",
      "* * * * * \n",
      " * * * * \n",
      "  * * * \n",
      "   * * \n",
      "    * \n"
     ]
    }
   ],
   "source": [
    "def diamond(s):\n",
    "    for i in range(1, s + 1):\n",
    "        print(\" \" * (s - i) +\"* \" * i)    \n",
    "        \n",
    "    for i in range(s-1,0,-1):\n",
    "        print(\" \" * (s - i) +\"* \" *i)        \n",
    "s= int(input(\"Enter s = \")) \n",
    "print(\"\\r\")\n",
    "diamond(s)"
   ]
  },
  {
   "cell_type": "code",
   "execution_count": null,
   "id": "90ecc011",
   "metadata": {},
   "outputs": [],
   "source": []
  },
  {
   "cell_type": "markdown",
   "id": "3857af34",
   "metadata": {},
   "source": [
    "# Q15. Write a python function to print Diamond Shaped Character Pattern shown below. Function must take integer input within range 1 to 26, which represents the rank of the alphabet. E.g  Input = 5 "
   ]
  },
  {
   "cell_type": "code",
   "execution_count": 3,
   "id": "0e6a0737",
   "metadata": {},
   "outputs": [
    {
     "name": "stdout",
     "output_type": "stream",
     "text": [
      "         A\n",
      "        A B\n",
      "       A B C\n",
      "      A B C D\n",
      "     A B C D E\n",
      "      A B C D\n",
      "       A B C\n",
      "        A B\n",
      "         A\n"
     ]
    }
   ],
   "source": [
    "alpha = \"A B C D E\"\n",
    "val = 1\n",
    "n = 2\n",
    "for line in range(len(alpha)):\n",
    "    if val == len(alpha):\n",
    "        n *= -1\n",
    "    space = \" \" * (len(alpha) - val//2)\n",
    "    print(space + alpha[0:val])\n",
    "    val += n"
   ]
  },
  {
   "cell_type": "code",
   "execution_count": null,
   "id": "c8e1c14f",
   "metadata": {},
   "outputs": [],
   "source": []
  },
  {
   "cell_type": "code",
   "execution_count": null,
   "id": "8d058530",
   "metadata": {},
   "outputs": [],
   "source": []
  },
  {
   "cell_type": "code",
   "execution_count": null,
   "id": "eeb25fd9",
   "metadata": {},
   "outputs": [],
   "source": []
  }
 ],
 "metadata": {
  "kernelspec": {
   "display_name": "Python 3 (ipykernel)",
   "language": "python",
   "name": "python3"
  },
  "language_info": {
   "codemirror_mode": {
    "name": "ipython",
    "version": 3
   },
   "file_extension": ".py",
   "mimetype": "text/x-python",
   "name": "python",
   "nbconvert_exporter": "python",
   "pygments_lexer": "ipython3",
   "version": "3.9.12"
  }
 },
 "nbformat": 4,
 "nbformat_minor": 5
}
